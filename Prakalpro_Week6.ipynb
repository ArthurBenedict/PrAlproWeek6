{
 "cells": [
  {
   "cell_type": "code",
   "execution_count": null,
   "metadata": {},
   "outputs": [],
   "source": [
    "def mbp(angka):\n",
    "    if angka <=1:\n",
    "        return False \n",
    "    for i in range(2, int(angka**0.5)+1):\n",
    "        if angka % i == 0:\n",
    "            return False\n",
    "    return True\n",
    "\n",
    "def mbpt(p):\n",
    "    if p <=2:\n",
    "        return None\n",
    "    for i in range(p-1, 1, -1):\n",
    "        if mbp(i):\n",
    "            break\n",
    "    return i\n",
    "\n",
    "p = int(input('masukan angka= '))\n",
    "\n",
    "bpt = mbpt(p)\n",
    "\n",
    "if bpt != None:\n",
    "    print (f\"bilangan prima terdekat kurang dari {p} adalah {bpt}\")\n",
    "else:\n",
    "    print (f\"tidak ada bilangan prima terdekat kurang dari {p}\")"
   ]
  },
  {
   "cell_type": "code",
   "execution_count": null,
   "metadata": {},
   "outputs": [],
   "source": [
    "def kali(hasil):\n",
    "    if hasil == 0 or hasil == 1:\n",
    "        return 1\n",
    "    else: \n",
    "        return hasil * kali(hasil-1)\n",
    "    \n",
    "def deret(x):\n",
    "    for i in range(p, 0, -1):\n",
    "        print(kali(i), end=\" \")\n",
    "        for j in range(i, 0, -1):\n",
    "            print(j, end=\" \")\n",
    "\n",
    "        print()\n",
    "\n",
    "x = int(input(\"masukan bilangan= \"))\n",
    "\n",
    "deret(x)"
   ]
  },
  {
   "cell_type": "code",
   "execution_count": null,
   "metadata": {},
   "outputs": [],
   "source": [
    "def deret(lebar, tinggi):\n",
    "    mulai = 1\n",
    "    for i in range(tinggi):\n",
    "        for j in range(lebar):\n",
    "            print(mulai, end=\" \")\n",
    "            mulai += 1\n",
    "        print()\n",
    "\n",
    "lebar = int(input(\"masukan lebar : \"))\n",
    "tinggi = int(input(\"masukan tinggi : \"))\n",
    "\n",
    "print(deret(lebar, tinggi))"
   ]
  }
 ],
 "metadata": {
  "language_info": {
   "name": "python"
  }
 },
 "nbformat": 4,
 "nbformat_minor": 2
}
